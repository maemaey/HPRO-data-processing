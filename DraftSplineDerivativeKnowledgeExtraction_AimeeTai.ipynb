{
 "cells": [
  {
   "cell_type": "code",
   "execution_count": 3,
   "id": "9a0f9e1c-ffda-4361-bab6-699fddf7a531",
   "metadata": {},
   "outputs": [],
   "source": [
    "import pandas as pd\n",
    "import numpy as np\n",
    "import matplotlib.pyplot as plt\n",
    "import piecewise_regression\n",
    "import re\n",
    "def namestr(obj, namespace):\n",
    "    return [name for name in namespace if namespace[name] is obj][0]\n",
    "\n",
    "# ignore warnings\n",
    "import warnings\n",
    "warnings.filterwarnings(\"ignore\")"
   ]
  },
  {
   "cell_type": "code",
   "execution_count": null,
   "id": "1174b828-1b86-4591-8216-fb51655ea3c8",
   "metadata": {},
   "outputs": [],
   "source": [
    "Auto_Noheating_10_11_1 = pd.read_csv('Data/compression 11/AutoNoHeating-10-11-1-240529_05292024_155944.csv')\n",
    "Auto_Noheating_10_11_2 = pd.read_csv('Data/compression 11/AutoNoHeating-10-11-2-240529_05292024_160237.csv')\n",
    "Auto_Noheating_10_11_3 = pd.read_csv('Data/compression 11/AutoNoHeating-10-11-3-240529_05292024_160529.csv')\n",
    "Auto_Noheating_10_11_4 = pd.read_csv('Data/compression 11/AutoNoHeating-10-11-4-240529_05292024_160857.csv')\n",
    "\n",
    "data_list = [Auto_Noheating_10_11_1, Auto_Noheating_10_11_2, Auto_Noheating_10_11_3, Auto_Noheating_10_11_4]\n",
    "# determine the thickness by subtracting 0 by 'S:LVDT (um)' at 2N in 'Ch:Load (N)'\n",
    "# convert in to um\n",
    "for i in range(len(data_list)):\n",
    "    data_list[i]['S:LVDT (um)'] = data_list[i]['S:LVDT (in)'] * 25.4 * 1000\n",
    "thickness = []\n",
    "for i in range(len(data_list)):\n",
    "    thickness.append(-data_list[i]['S:LVDT (um)'][data_list[i]['Ch:Load (N)'] > 2].iloc[0])\n",
    "print(thickness)\n",
    "# convert in to um\n",
    "for i in range(len(data_list)): \n",
    "    thickness = -data_list[i]['S:LVDT (um)'][data_list[i]['Ch:Load (N)'] > 2].iloc[0]\n",
    "    data_list[i]['S:LVDT (um)'] = data_list[i]['S:LVDT (in)'] * 25.4 * 1000\n",
    "    # create stress column which is load / area, the area is 19.635 mm^2\n",
    "    data_list[i]['stress (bar)'] = data_list[i]['Ch:Load (N)'] / 19.635 *10\n",
    "    # create strain column which is displacement / thickness, the thickness is shown above\n",
    "    data_list[i]['strain'] = data_list[i]['S:LVDT (um)'] / thickness\n",
    "    # Plot these in the same graph to compare them\n",
    "plt.figure(figsize=(8, 6))\n",
    "for i in range(len(data_list)):\n",
    "    data_name = namestr(data_list[i], globals())\n",
    "    data = data_list[i][data_list[i]['Ch:Load (N)'] >1]\n",
    "    # shift the data so that the first point is at 0 in 'S:LVDT (in)'\n",
    "    data['strain'] = data['strain'] - data['strain'].iloc[0]\n",
    "    plt.plot(data['strain'], data['stress (bar)'], label=data_name)\n",
    "# show title and labels\n",
    "plt.title('No Heating 10wt%')\n",
    "#plt.xlim(0,0.2)\n",
    "#plt.ylim(0,20)\n",
    "plt.xlabel('Strain')\n",
    "plt.ylabel('Stress (bar)')\n",
    "plt.legend(loc='upper left')\n",
    "plt.show()"
   ]
  },
  {
   "cell_type": "code",
   "execution_count": null,
   "id": "d0ac19ab-7360-4f16-acd0-943368bef888",
   "metadata": {},
   "outputs": [],
   "source": []
  }
 ],
 "metadata": {
  "kernelspec": {
   "display_name": "Python 3 (ipykernel)",
   "language": "python",
   "name": "python3"
  },
  "language_info": {
   "codemirror_mode": {
    "name": "ipython",
    "version": 3
   },
   "file_extension": ".py",
   "mimetype": "text/x-python",
   "name": "python",
   "nbconvert_exporter": "python",
   "pygments_lexer": "ipython3",
   "version": "3.12.1"
  }
 },
 "nbformat": 4,
 "nbformat_minor": 5
}
